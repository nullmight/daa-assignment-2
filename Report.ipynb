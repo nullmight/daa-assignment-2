{
 "cells": [
  {
   "attachments": {},
   "cell_type": "markdown",
   "id": "8152d312",
   "metadata": {},
   "source": [
    "## CS F364 : Design and Analysis of Algorithms\n",
    "### Assignment-2 Report"
   ]
  },
  {
   "attachments": {},
   "cell_type": "markdown",
   "id": "cb614534",
   "metadata": {},
   "source": [
    "#### Team Members\n",
    "\n",
    "1. Sai Prasanna Panda (2020A7PS0080H)\n",
    "1. Harshit Verma (2020A7PS0041H)"
   ]
  },
  {
   "attachments": {},
   "cell_type": "markdown",
   "id": "636b2518",
   "metadata": {},
   "source": [
    "#### Project Overview\n",
    "\n",
    "We implemented two algorithms, Ford-Fulkerson algorithm to find the maximum flow and minimum cut and segmented least squares algorithm to find the best fitting line segments for a set of points."
   ]
  },
  {
   "attachments": {},
   "cell_type": "markdown",
   "id": "d7788576",
   "metadata": {},
   "source": [
    "#### Time Analysis\n",
    "\n",
    "We benchmarked our implementation by running it on sets of points of various sizes, ranging from 10 to 1000. We created our own dataset of polygons and tested our implementation on it. We used the C++ `chrono` library to measure our execution time. We took 5 sample execution times for each polygon size and plotted their average. "
   ]
  },
  {
   "attachments": {},
   "cell_type": "markdown",
   "id": "05c9c62d",
   "metadata": {},
   "source": [
    "The execution times were as follows:"
   ]
  },
  {
   "attachments": {},
   "cell_type": "markdown",
   "id": "2ca76b16",
   "metadata": {},
   "source": [
    "|Size of P|C|Execution Time(in us)|\n",
    "|---|---|---|\n",
    "|10|0|117|\n",
    "|10|1|98|\n",
    "|10|10|167|\n",
    "|100|0|2423|\n",
    "|100|1|2963|\n",
    "|100|10|2242|\n",
    "|100|100|2297|\n",
    "|1000|0|1570411|\n",
    "|1000|1|1530713|\n",
    "|1000|10|1559671|\n",
    "|1000|100|1582220|"
   ]
  },
  {
   "attachments": {},
   "cell_type": "markdown",
   "id": "27fdd4f0",
   "metadata": {},
   "source": [
    "The overall run time of the algorithm is O(N^3), where N is the number of points in the set. This is consistent with our readings."
   ]
  },
  {
   "attachments": {},
   "cell_type": "markdown",
   "id": "08051397",
   "metadata": {},
   "source": [
    "|Nodes|Edges|Execution Time(in us)|\n",
    "|---|---|---|\n",
    "|6|7|391|\n",
    "|6|10|402|\n",
    "|955| 116536|22332|\n",
    "|2000|493202|78653|"
   ]
  },
  {
   "attachments": {},
   "cell_type": "markdown",
   "id": "17bd7b74",
   "metadata": {},
   "source": [
    "The overall run time of the algorithm is O(E*F), where E is the number of edges in the set and F is the maximal flow in the network. This is consistent with our readings."
   ]
  },
  {
   "attachments": {},
   "cell_type": "markdown",
   "id": "84df6382",
   "metadata": {},
   "source": [
    "#### General Discussion and Issues in Coding"
   ]
  },
  {
   "attachments": {},
   "cell_type": "markdown",
   "id": "f2397e83",
   "metadata": {},
   "source": [
    "We converted the pseudocode as discussed in class and made helper functions wherever required. We tried various penalties (C) for adding new lines and observed the changes in the resulting line segments for every set of points. Increasing the value of C led to fewer line segments in the results and vice-versa. While finding the best fit line for a set of points using the closed form solution, we encountered some test cases where the denominator was becoming 0. To avoid division by 0, we added a small epsilon value (1e-8) to the denominator. This solved the error and we got the expected results."
   ]
  },
  {
   "attachments": {},
   "cell_type": "markdown",
   "id": "01a6537a",
   "metadata": {},
   "source": [
    "For the ford-fulkerson algorithm, we followed the pseudocode as discussed in the class. We tested our implementation on graphs ranging from 10 edges to 493202 edges, from the stanford dataset, to check the overall robustness of our implementation."
   ]
  },
  {
   "attachments": {},
   "cell_type": "markdown",
   "id": "04f8b3b4",
   "metadata": {},
   "source": [
    "#### Visualization of Fitted Lines"
   ]
  },
  {
   "attachments": {},
   "cell_type": "markdown",
   "id": "33c28744",
   "metadata": {},
   "source": [
    "Here are some visualizations of the result produced by our implementation."
   ]
  },
  {
   "attachments": {},
   "cell_type": "markdown",
   "id": "f16fce6b",
   "metadata": {},
   "source": [
    "The following figure shows the result on set of 10 points, with C = 1:"
   ]
  },
  {
   "attachments": {},
   "cell_type": "markdown",
   "id": "f922ede2",
   "metadata": {},
   "source": [
    "![100.png](./images/100.png)"
   ]
  },
  {
   "attachments": {},
   "cell_type": "markdown",
   "id": "d9bb5931",
   "metadata": {},
   "source": [
    "The following figure shows the result on set of 10 points, with C = 10:"
   ]
  },
  {
   "attachments": {},
   "cell_type": "markdown",
   "id": "cd0f49fb",
   "metadata": {},
   "source": [
    "![10.png](./images/10.png)"
   ]
  }
 ],
 "metadata": {
  "kernelspec": {
   "display_name": "Python 3 (ipykernel)",
   "language": "python",
   "name": "python3"
  },
  "language_info": {
   "codemirror_mode": {
    "name": "ipython",
    "version": 3
   },
   "file_extension": ".py",
   "mimetype": "text/x-python",
   "name": "python",
   "nbconvert_exporter": "python",
   "pygments_lexer": "ipython3",
   "version": "3.8.10"
  }
 },
 "nbformat": 4,
 "nbformat_minor": 5
}
